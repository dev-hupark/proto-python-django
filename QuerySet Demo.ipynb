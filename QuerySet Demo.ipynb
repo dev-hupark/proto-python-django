{
 "cells": [
  {
   "cell_type": "code",
   "execution_count": 6,
   "id": "4ee24596",
   "metadata": {},
   "outputs": [],
   "source": [
    "import os\n",
    "os.environ['DJANGO_SETTINGS_MODULE'] = 'myprj.settings'\n",
    "os.environ['DJANGO_ALLOW_ASYNC_UNSAFE'] = 'true'\n",
    "\n",
    "import django\n",
    "django.setup()"
   ]
  },
  {
   "cell_type": "code",
   "execution_count": 7,
   "id": "4f34584c",
   "metadata": {},
   "outputs": [],
   "source": [
    "from instagram.models import Post"
   ]
  },
  {
   "cell_type": "code",
   "execution_count": 11,
   "id": "59a99bfa",
   "metadata": {
    "scrolled": true
   },
   "outputs": [
    {
     "name": "stdout",
     "output_type": "stream",
     "text": [
      "<class 'django.db.models.query.QuerySet'>\n",
      "SELECT \"instagram_post\".\"id\", \"instagram_post\".\"message\", \"instagram_post\".\"photo\", \"instagram_post\".\"is_public\", \"instagram_post\".\"created_at\", \"instagram_post\".\"updated_at\" FROM \"instagram_post\"\n"
     ]
    },
    {
     "data": {
      "text/plain": [
       "<QuerySet [<Post: 1 post>, <Post: 2 post>, <Post: 3 post>]>"
      ]
     },
     "execution_count": 11,
     "metadata": {},
     "output_type": "execute_result"
    }
   ],
   "source": [
    "qs = Post.objects.all()\n",
    "print(type(qs))\n",
    "print(qs.query)\n",
    "qs"
   ]
  },
  {
   "cell_type": "code",
   "execution_count": 14,
   "id": "1d3528ce",
   "metadata": {},
   "outputs": [
    {
     "name": "stdout",
     "output_type": "stream",
     "text": [
      "SELECT \"instagram_post\".\"id\", \"instagram_post\".\"message\", \"instagram_post\".\"photo\", \"instagram_post\".\"is_public\", \"instagram_post\".\"created_at\", \"instagram_post\".\"updated_at\" FROM \"instagram_post\" ORDER BY \"instagram_post\".\"id\" DESC LIMIT 2\n"
     ]
    },
    {
     "data": {
      "text/plain": [
       "<QuerySet [<Post: 3 post>, <Post: 2 post>]>"
      ]
     },
     "execution_count": 14,
     "metadata": {},
     "output_type": "execute_result"
    }
   ],
   "source": [
    "qs = Post.objects.all().order_by('-id')[:2]\n",
    "print(qs.query)\n",
    "qs"
   ]
  },
  {
   "cell_type": "code",
   "execution_count": 21,
   "id": "ef7bed26",
   "metadata": {},
   "outputs": [
    {
     "name": "stdout",
     "output_type": "stream",
     "text": [
      "{'_state': <django.db.models.base.ModelState object at 0x7f8841147a30>, 'id': 3, 'message': '3 post', 'photo': 'instagram/post/2023/01/25/325198899_151950977644860_4921006801896008150_n.jpeg', 'is_public': False, 'created_at': datetime.datetime(2023, 1, 25, 5, 2, 52, 639779, tzinfo=<UTC>), 'updated_at': datetime.datetime(2023, 1, 25, 5, 2, 52, 639848, tzinfo=<UTC>)}\n",
      "id : 3, message: 3 post\n",
      "{'_state': <django.db.models.base.ModelState object at 0x7f8848791400>, 'id': 2, 'message': '2 post', 'photo': '', 'is_public': True, 'created_at': datetime.datetime(2023, 1, 25, 5, 2, 49, 671075, tzinfo=<UTC>), 'updated_at': datetime.datetime(2023, 1, 25, 5, 2, 49, 671124, tzinfo=<UTC>)}\n",
      "id : 2, message: 2 post\n"
     ]
    }
   ],
   "source": [
    "for post in qs:\n",
    "    #print(post.message, post.created_at)\n",
    "    print(post.__dict__)\n",
    "    print(\"id : {id}, message: {message}\".format(**post.__dict__))"
   ]
  },
  {
   "cell_type": "code",
   "execution_count": 30,
   "id": "954b8991",
   "metadata": {},
   "outputs": [
    {
     "name": "stdout",
     "output_type": "stream",
     "text": [
      "SELECT \"instagram_post\".\"id\", \"instagram_post\".\"message\", \"instagram_post\".\"photo\", \"instagram_post\".\"is_public\", \"instagram_post\".\"created_at\", \"instagram_post\".\"updated_at\" FROM \"instagram_post\" WHERE \"instagram_post\".\"message\" LIKE %1% ESCAPE '\\' ORDER BY \"instagram_post\".\"id\" DESC\n"
     ]
    },
    {
     "data": {
      "text/plain": [
       "<Post: 1 post>"
      ]
     },
     "execution_count": 30,
     "metadata": {},
     "output_type": "execute_result"
    }
   ],
   "source": [
    "query = '1'\n",
    "\n",
    "qs = Post.objects.all()\\\n",
    ".filter(message__icontains=query)\\\n",
    ".order_by('-id')\n",
    "print(qs.query)\n"
   ]
  },
  {
   "cell_type": "code",
   "execution_count": null,
   "id": "fee058ef",
   "metadata": {},
   "outputs": [],
   "source": [
    "qs.first()"
   ]
  },
  {
   "cell_type": "code",
   "execution_count": null,
   "id": "b2762021",
   "metadata": {},
   "outputs": [],
   "source": [
    "qs.last()"
   ]
  },
  {
   "cell_type": "code",
   "execution_count": 32,
   "id": "3aa5e0bd",
   "metadata": {},
   "outputs": [
    {
     "data": {
      "text/plain": [
       "<Post: 1 post>"
      ]
     },
     "execution_count": 32,
     "metadata": {},
     "output_type": "execute_result"
    }
   ],
   "source": [
    "qs = Post.objects.all()\n",
    "qs.get(pk=1)"
   ]
  },
  {
   "cell_type": "code",
   "execution_count": null,
   "id": "605f06b0",
   "metadata": {},
   "outputs": [],
   "source": []
  },
  {
   "cell_type": "code",
   "execution_count": 34,
   "id": "00fd1f9b",
   "metadata": {},
   "outputs": [],
   "source": [
    "from django.db.models import Q"
   ]
  },
  {
   "cell_type": "code",
   "execution_count": 45,
   "id": "971d7366",
   "metadata": {},
   "outputs": [
    {
     "name": "stdout",
     "output_type": "stream",
     "text": [
      "SELECT \"instagram_post\".\"id\", \"instagram_post\".\"message\", \"instagram_post\".\"photo\", \"instagram_post\".\"is_public\", \"instagram_post\".\"created_at\", \"instagram_post\".\"updated_at\" FROM \"instagram_post\" WHERE (\"instagram_post\".\"id\" >= 2 AND \"instagram_post\".\"message\" LIKE %1% ESCAPE '\\')\n"
     ]
    }
   ],
   "source": [
    "qs = Post.objects.all()\n",
    "qs = qs.filter(Q(pk__gte=2) & Q(message__icontains=query))\n",
    "print(qs.query)"
   ]
  },
  {
   "cell_type": "code",
   "execution_count": null,
   "id": "68dccb95",
   "metadata": {},
   "outputs": [],
   "source": []
  }
 ],
 "metadata": {
  "kernelspec": {
   "display_name": "Python 3 (ipykernel)",
   "language": "python",
   "name": "python3"
  },
  "language_info": {
   "codemirror_mode": {
    "name": "ipython",
    "version": 3
   },
   "file_extension": ".py",
   "mimetype": "text/x-python",
   "name": "python",
   "nbconvert_exporter": "python",
   "pygments_lexer": "ipython3",
   "version": "3.9.16"
  }
 },
 "nbformat": 4,
 "nbformat_minor": 5
}
